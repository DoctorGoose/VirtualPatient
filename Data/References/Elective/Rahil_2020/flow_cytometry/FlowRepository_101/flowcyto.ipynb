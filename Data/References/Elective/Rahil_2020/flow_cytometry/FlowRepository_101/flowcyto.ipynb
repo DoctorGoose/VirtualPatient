{
 "cells": [
  {
   "cell_type": "code",
   "execution_count": 1,
   "metadata": {},
   "outputs": [
    {
     "name": "stderr",
     "output_type": "stream",
     "text": [
      "C:\\Users\\jorda\\AppData\\Local\\Packages\\PythonSoftwareFoundation.Python.3.11_qbz5n2kfra8p0\\LocalCache\\local-packages\\Python311\\site-packages\\fcsparser\\api.py:490: UserWarning: The default channel names (defined by the $PnS parameter in the FCS file) were not unique. To avoid problems in downstream analysis, the channel names have been switched to the alternate channel names defined in the FCS file. To avoid seeing this warning message, explicitly instruct the FCS parser to use the alternate channel names by specifying the channel_naming parameter.\n",
      "  warnings.warn(msg)\n"
     ]
    },
    {
     "data": {
      "text/plain": [
       "{'$BEGINANALYSIS': '0',\n",
       " '$BEGINDATA': '6084',\n",
       " '$BEGINSTEXT': '0',\n",
       " '$BYTEORD': '4,3,2,1',\n",
       " '$COM': 'PengQiu FCS writer',\n",
       " '$CYT': 'DVSSCIENCES-CYTOF',\n",
       " '$DATATYPE': 'F',\n",
       " '$ENDANALYSIS': '0',\n",
       " '$ENDDATA': '21110683',\n",
       " '$ENDSTEXT': '0',\n",
       " '$MODE': 'L',\n",
       " '$NEXTDATA': 0,\n",
       " '$PAR': 53,\n",
       " '$TOT': 99550}"
      ]
     },
     "execution_count": 1,
     "metadata": {},
     "output_type": "execute_result"
    }
   ],
   "source": [
    "from fcsparser import parse\n",
    "\n",
    "# Load the FCS file\n",
    "file_path = '101_-1.fcs'\n",
    "\n",
    "# Parse the FCS file, including metadata\n",
    "meta, data = parse(file_path, reformat_meta=True)\n",
    "\n",
    "# Display a summary of the metadata\n",
    "metadata_summary = {key: meta[key] for key in meta if key.startswith('$')}\n",
    "metadata_summary"
   ]
  }
 ],
 "metadata": {
  "kernelspec": {
   "display_name": "Python 3",
   "language": "python",
   "name": "python3"
  },
  "language_info": {
   "codemirror_mode": {
    "name": "ipython",
    "version": 3
   },
   "file_extension": ".py",
   "mimetype": "text/x-python",
   "name": "python",
   "nbconvert_exporter": "python",
   "pygments_lexer": "ipython3",
   "version": "3.11.7"
  }
 },
 "nbformat": 4,
 "nbformat_minor": 2
}
